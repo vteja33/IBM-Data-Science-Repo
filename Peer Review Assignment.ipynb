{
  "metadata": {
    "language_info": {
      "codemirror_mode": {
        "name": "python",
        "version": 3
      },
      "file_extension": ".py",
      "mimetype": "text/x-python",
      "name": "python",
      "nbconvert_exporter": "python",
      "pygments_lexer": "ipython3",
      "version": "3.8"
    },
    "kernelspec": {
      "name": "python",
      "display_name": "Python (Pyodide)",
      "language": "python"
    }
  },
  "nbformat_minor": 4,
  "nbformat": 4,
  "cells": [
    {
      "cell_type": "markdown",
      "source": "# Peer Review Graded Assignment",
      "metadata": {}
    },
    {
      "cell_type": "markdown",
      "source": "#### This is my first peer review assignment. I have not carried over any objectives and I stuck to the task of creating lists, objectives and evaluating expressions and all.",
      "metadata": {}
    },
    {
      "cell_type": "markdown",
      "source": "- python\n- julia\n- R",
      "metadata": {}
    },
    {
      "cell_type": "markdown",
      "source": "- Numpy\n- Scikit\n- Pandas",
      "metadata": {}
    },
    {
      "cell_type": "markdown",
      "source": "| Data Science Tools | \n|:--------:|\n|  SAS   |\n|  Apache Airflow  |\n|  PySpark   | ",
      "metadata": {}
    },
    {
      "cell_type": "markdown",
      "source": "Evaluating Arithmetic Expressions Examples are below as followed:",
      "metadata": {}
    },
    {
      "cell_type": "code",
      "source": "(4*5)",
      "metadata": {
        "trusted": true
      },
      "execution_count": 9,
      "outputs": [
        {
          "execution_count": 9,
          "output_type": "execute_result",
          "data": {
            "text/plain": "20"
          },
          "metadata": {}
        }
      ]
    },
    {
      "cell_type": "code",
      "source": "5+13",
      "metadata": {
        "trusted": true
      },
      "execution_count": 10,
      "outputs": [
        {
          "execution_count": 10,
          "output_type": "execute_result",
          "data": {
            "text/plain": "18"
          },
          "metadata": {}
        }
      ]
    },
    {
      "cell_type": "code",
      "source": "#converting 30 minutes to hours:\n\ndays = 0\nhours = 0\nmins = 0\n\ntime = 320\n#days = time / 1440\nremaining_time = time % 1440\nhours = remaining_time / 60\n#mins = time - (days*1440) - (hours*60)\nprint(str(days) + \" days, \" + str(hours) + \" hours, \" + str(mins) +  \" mins. \")",
      "metadata": {
        "trusted": true
      },
      "execution_count": 12,
      "outputs": [
        {
          "name": "stdout",
          "text": "0 days, 5.333333333333333 hours, 0 mins. \n",
          "output_type": "stream"
        }
      ]
    },
    {
      "cell_type": "markdown",
      "source": "- Create a markdown cell to indicate the Author’s name.\n- Share your notebook through GitHub \n- Take a screenshot of the first page of the notebook",
      "metadata": {}
    },
    {
      "cell_type": "markdown",
      "source": "### Author's Name: Vamshi Vallala",
      "metadata": {}
    },
    {
      "cell_type": "code",
      "source": "",
      "metadata": {},
      "execution_count": null,
      "outputs": []
    }
  ]
}